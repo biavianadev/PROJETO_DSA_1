{
 "cells": [
  {
   "cell_type": "markdown",
   "id": "ca67b489",
   "metadata": {},
   "source": [
    "# Executando segundo pseudocódigo - calculadora simples"
   ]
  },
  {
   "cell_type": "markdown",
   "id": "11601208",
   "metadata": {},
   "source": [
    "INICIE\n",
    "\n",
    "* Exiba \"Bem-vindo à Calculadora simples\"\n",
    "* Peça ao usuário inserir o primeiro número\n",
    "* Armazene o primeiro número em uma variável\n",
    "* Peça ao usuário inserir o segundo número \n",
    "* Armazene o segundo número em uma variável\n",
    "* Peça ao usuáio que selecione uma operação (+, -, *, /) \n",
    "* Armazene a operação selecionada em uma variável\n",
    "* Utilize a operação selecionada e os números armazenados para realizar o calculo\n",
    "* Exiba o resultado \n",
    "\n",
    "FIM"
   ]
  },
  {
   "cell_type": "code",
   "execution_count": 16,
   "id": "13a9b1bc",
   "metadata": {},
   "outputs": [
    {
     "name": "stdout",
     "output_type": "stream",
     "text": [
      "Bem-vindo à Calculadora simples\n"
     ]
    }
   ],
   "source": [
    "print(\"Bem-vindo à Calculadora simples\")"
   ]
  },
  {
   "cell_type": "code",
   "execution_count": null,
   "id": "38f1e5f3",
   "metadata": {},
   "outputs": [],
   "source": [
    "num1 = float(input(\"Insira o primeiro número: \"))"
   ]
  },
  {
   "cell_type": "code",
   "execution_count": null,
   "id": "fb43f211",
   "metadata": {},
   "outputs": [],
   "source": [
    "num2 = float(input(\"Insira o segundo número: \"))"
   ]
  },
  {
   "cell_type": "code",
   "execution_count": null,
   "id": "83309a76",
   "metadata": {},
   "outputs": [],
   "source": [
    "operação = input(\"Selecione uma das operações (+, -, *, /): \")"
   ]
  },
  {
   "cell_type": "code",
   "execution_count": null,
   "id": "afedd31c",
   "metadata": {},
   "outputs": [],
   "source": [
    "if operação == \"+\":\n",
    "    resultado = num1 + num2\n",
    "    print(\"O resultado é: \", resultado)\n",
    "\n",
    "elif operação == \"-\":\n",
    "    resultado = num1 - num2\n",
    "    print(\"O resultado é: \", resultado)\n",
    "    \n",
    "elif operação == \"*\":\n",
    "    resultado = num1 * num2\n",
    "    print(\"O resultado é: \", resultado)\n",
    "    \n",
    "elif operação == \"/\":\n",
    "    if num2 == 0:\n",
    "        print(\"Não é possivel realizar divisao zero \", num2)\n",
    "    else:    \n",
    "        resultado = num1 / num2\n",
    "        print(\"O resultado é: \", resultado)\n",
    "    \n",
    "else:\n",
    "    print(\"Operação inválida\")"
   ]
  },
  {
   "cell_type": "code",
   "execution_count": null,
   "id": "a9d578df",
   "metadata": {},
   "outputs": [],
   "source": []
  }
 ],
 "metadata": {
  "kernelspec": {
   "display_name": "Python 3 (ipykernel)",
   "language": "python",
   "name": "python3"
  },
  "language_info": {
   "codemirror_mode": {
    "name": "ipython",
    "version": 3
   },
   "file_extension": ".py",
   "mimetype": "text/x-python",
   "name": "python",
   "nbconvert_exporter": "python",
   "pygments_lexer": "ipython3",
   "version": "3.11.5"
  }
 },
 "nbformat": 4,
 "nbformat_minor": 5
}
