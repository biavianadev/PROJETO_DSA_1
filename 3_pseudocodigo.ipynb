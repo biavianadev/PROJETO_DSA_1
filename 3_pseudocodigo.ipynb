{
 "cells": [
  {
   "cell_type": "markdown",
   "id": "240ad10e",
   "metadata": {},
   "source": [
    "# Executando terceiro pseudocódigo - algoritmo Bubble Sort\n",
    "\n",
    "Bubble Sort: O Bubble Sort, ou ordenação por flutuação, é um algoritmo de ordenação dos mais simples. A ideia é percorrer um conjunto de elementos diversas vezes, e a cada passagem fazer flutuar para o topo o maior elemento da sequência.\n",
    "\n",
    "Array: Assim como as listas, os arrays são ordenados, mutáveis, colocados entre colchetes e capazes de armazenar itens não exclusivos, mas a diferença é que um array é uma estrutura de dados que contém elementos homogêneos, ou seja, pertencentes ao mesmo tipo de dados."
   ]
  },
  {
   "cell_type": "markdown",
   "id": "3cd2d3b4",
   "metadata": {},
   "source": [
    "INICIE \n",
    "\n",
    "    Para cada elemento i no array de tamanho n\n",
    "        Para cada elemento j no array tamanho n-1\n",
    "            Se elemento i for maior que elemento j\n",
    "                Troque os elementos i e j\n",
    "    Exiba o resultado\n",
    "\n",
    "FIM"
   ]
  },
  {
   "cell_type": "code",
   "execution_count": 4,
   "id": "9dffa352",
   "metadata": {},
   "outputs": [],
   "source": [
    "lista = [90, 58, 18, 66, 9, 27, 60, 49, 82, 8, 11, 72, 22, 91, 5, 17, 80, 10, 29, 21]"
   ]
  },
  {
   "cell_type": "code",
   "execution_count": 5,
   "id": "cf685d96",
   "metadata": {},
   "outputs": [],
   "source": [
    "# Definir uma função - função bubble_sort\n",
    "def bubble_sort(arr):\n",
    "    \n",
    "    # Retomar comprimento de um array\n",
    "    n = len(arr)\n",
    "    \n",
    "    # Para cada elemento i no array\n",
    "    for i in range(n):\n",
    "        \n",
    "        # Para cada elemento j no array\n",
    "        for j in range(0, n-i-1):\n",
    "            \n",
    "            # Se elemento i for maior que elemento j\n",
    "            if arr[j] > arr[j+1]:\n",
    "                \n",
    "                # Troque os elementos i e j\n",
    "                arr[j], arr[j+1] = arr[j+1], arr[j]\n",
    "\n",
    "    return arr"
   ]
  },
  {
   "cell_type": "code",
   "execution_count": 6,
   "id": "dc0af733",
   "metadata": {},
   "outputs": [
    {
     "name": "stdout",
     "output_type": "stream",
     "text": [
      "[5, 8, 9, 10, 11, 17, 18, 21, 22, 27, 29, 49, 58, 60, 66, 72, 80, 82, 90, 91]\n"
     ]
    }
   ],
   "source": [
    "print(bubble_sort(lista))"
   ]
  }
 ],
 "metadata": {
  "kernelspec": {
   "display_name": "Python 3 (ipykernel)",
   "language": "python",
   "name": "python3"
  },
  "language_info": {
   "codemirror_mode": {
    "name": "ipython",
    "version": 3
   },
   "file_extension": ".py",
   "mimetype": "text/x-python",
   "name": "python",
   "nbconvert_exporter": "python",
   "pygments_lexer": "ipython3",
   "version": "3.11.5"
  }
 },
 "nbformat": 4,
 "nbformat_minor": 5
}
